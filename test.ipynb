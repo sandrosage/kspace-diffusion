{
 "cells": [
  {
   "cell_type": "code",
   "execution_count": 25,
   "metadata": {},
   "outputs": [
    {
     "data": {
      "text/plain": [
       "tensor([[0.1993, 0.0706, 0.3618,  ..., 0.1918, 0.2826, 0.4659],\n",
       "        [0.1376, 0.7846, 0.0929,  ..., 0.2734, 0.0993, 0.2237],\n",
       "        [0.0103, 0.2519, 0.3415,  ..., 0.0162, 0.3472, 0.2877],\n",
       "        ...,\n",
       "        [0.1017, 0.1105, 0.1788,  ..., 0.3881, 0.1828, 0.2773],\n",
       "        [0.3452, 0.3211, 0.2015,  ..., 0.0311, 0.4092, 0.2377],\n",
       "        [0.3520, 0.7996, 0.3036,  ..., 0.6714, 0.5124, 0.1150]])"
      ]
     },
     "execution_count": 25,
     "metadata": {},
     "output_type": "execute_result"
    }
   ],
   "source": [
    "from fastmri.losses import SSIMLoss\n",
    "import torch\n",
    "\n",
    "loss = SSIMLoss()\n",
    "\n",
    "x = y = torch.rand(320,320)\n",
    "z = torch.rand(320,320)\n",
    "torch.abs(x -z)"
   ]
  },
  {
   "cell_type": "code",
   "execution_count": 14,
   "metadata": {},
   "outputs": [
    {
     "name": "stdout",
     "output_type": "stream",
     "text": [
      "34742\n"
     ]
    },
    {
     "name": "stdout",
     "output_type": "stream",
     "text": [
      "torch.Size([1])\n",
      "torch.Size([1])\n",
      "torch.Size([1])\n",
      "torch.Size([1])\n",
      "torch.Size([1])\n",
      "torch.Size([1])\n",
      "torch.Size([1])\n",
      "torch.Size([1])\n",
      "torch.Size([1])\n",
      "torch.Size([1])\n",
      "torch.Size([1])\n",
      "torch.Size([1])\n"
     ]
    }
   ],
   "source": [
    "from fastmri.pl_modules import FastMriDataModule\n",
    "from modules.transforms import KspaceLDMDataTransform\n",
    "from pathlib import Path\n",
    "import matplotlib.pyplot as plt\n",
    "\n",
    "train_transform = KspaceLDMDataTransform()\n",
    "val_transform = KspaceLDMDataTransform()\n",
    "test_transform = KspaceLDMDataTransform()\n",
    "# ptl data module - this handles data loaders\n",
    "data_module = FastMriDataModule(\n",
    "    data_path=Path(\"/home/saturn/iwai/iwai113h/IdeaLab/knee_dataset\"),\n",
    "    challenge=\"singlecoil\",\n",
    "    train_transform=train_transform,\n",
    "    val_transform=val_transform,\n",
    "    test_transform=test_transform,\n",
    "    combine_train_val=False,\n",
    "    test_split=\"test\",\n",
    "    sample_rate=None,\n",
    "    batch_size=1,\n",
    "    num_workers=4,\n",
    "    distributed_sampler=False,\n",
    "    use_dataset_cache_file=True\n",
    ")\n",
    "dl = data_module.train_dataloader()\n",
    "print(len(dl))\n",
    "for i, batch in enumerate(dl):\n",
    "    print(batch.max_value.shape)\n",
    "    if i > 10:\n",
    "        break\n",
    "    \n"
   ]
  }
 ],
 "metadata": {
  "kernelspec": {
   "display_name": "kdiff",
   "language": "python",
   "name": "python3"
  },
  "language_info": {
   "codemirror_mode": {
    "name": "ipython",
    "version": 3
   },
   "file_extension": ".py",
   "mimetype": "text/x-python",
   "name": "python",
   "nbconvert_exporter": "python",
   "pygments_lexer": "ipython3",
   "version": "3.10.11"
  }
 },
 "nbformat": 4,
 "nbformat_minor": 2
}
